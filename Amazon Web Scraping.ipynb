{
 "cells": [
  {
   "cell_type": "code",
   "execution_count": 1,
   "id": "de3bb955",
   "metadata": {},
   "outputs": [],
   "source": [
    "from bs4 import BeautifulSoup\n",
    "import requests\n",
    "import smtplib\n",
    "import time\n",
    "import datetime"
   ]
  },
  {
   "cell_type": "code",
   "execution_count": 2,
   "id": "b6b04441",
   "metadata": {},
   "outputs": [
    {
     "name": "stdout",
     "output_type": "stream",
     "text": [
      "\n",
      "            Frank Zappa - Apostrophe (') Songbook: Guitar Recorded Versions (English Edition)\n",
      "           \n",
      "\n",
      "                R$ 129,80\n",
      "               \n"
     ]
    }
   ],
   "source": [
    "# Conectando ao site\n",
    "\n",
    "url = \"https://www.amazon.com.br/Frank-Zappa-Apostrophe-Songbook-Recorded-ebook/dp/B00G28RF3E/ref=sr_1_6?__mk_pt_BR=%C3%85M%C3%85%C5%BD%C3%95%C3%91&crid=3MIK3EKLBPZJM&keywords=frank+zappa&qid=1649351935&sprefix=frank+zapp%2Caps%2C219&sr=8-6&ufe=app_do%3Aamzn1.fos.db68964d-7c0e-4bb2-a95c-e5cb9e32eb12\"\n",
    "\n",
    "headers = {\"User-Agent\": \"Mozilla/5.0 (Windows NT 10.0; Win64; x64; rv:98.0) Gecko/20100101 Firefox/98.0\", \"Accept-Encoding\":\"gzip, deflate\", \"Accept\":\"text/html,application/xhtml+xml,application/xml;q=0.9,*/*;q=0.8\", \"DNT\":\"1\",\"Connection\":\"close\", \"Upgrade-Insecure-Requests\":\"1\"}\n",
    "\n",
    "pagina = requests.get(url, headers=headers)\n",
    "\n",
    "soup1 = BeautifulSoup(pagina.content, \"html.parser\")\n",
    "\n",
    "soup2 = BeautifulSoup(soup1.prettify(), \"html.parser\")\n",
    "\n",
    "titulo = soup2.find(id='productTitle').get_text()\n",
    "\n",
    "preco = soup2.find(id='kindle-price').get_text()\n",
    "\n",
    "print(titulo)\n",
    "print(preco)\n",
    "\n",
    "\n",
    "\n"
   ]
  },
  {
   "cell_type": "code",
   "execution_count": 6,
   "id": "d90d7017",
   "metadata": {},
   "outputs": [
    {
     "name": "stdout",
     "output_type": "stream",
     "text": [
      "Frank Zappa - Apostrophe (') Songbook: Guitar Recorded Versions (English Edition)\n",
      "9,80\n"
     ]
    }
   ],
   "source": [
    "preco = preco.strip()[2:]\n",
    "titulo = titulo.strip()\n",
    "\n",
    "print(titulo)\n",
    "print(preco)"
   ]
  },
  {
   "cell_type": "code",
   "execution_count": 7,
   "id": "c40a2694",
   "metadata": {},
   "outputs": [
    {
     "name": "stdout",
     "output_type": "stream",
     "text": [
      "2022-04-07\n"
     ]
    }
   ],
   "source": [
    "import datetime\n",
    "\n",
    "hoje = datetime.date.today()\n",
    "print(hoje)"
   ]
  },
  {
   "cell_type": "code",
   "execution_count": 8,
   "id": "bcdd6aff",
   "metadata": {},
   "outputs": [],
   "source": [
    "import csv\n",
    "\n",
    "header = ['Título', 'Preço', 'Data']\n",
    "dados = [titulo,preco, hoje]\n",
    "\n",
    "with open (\"EscavadorAmazon.csv\", 'w', newline='', encoding='UTF8') as f:\n",
    "    writer = csv.writer(f)\n",
    "    writer.writerow(header)\n",
    "    writer.writerow(dados)\n",
    "    \n",
    "\n",
    "\n",
    "\n"
   ]
  },
  {
   "cell_type": "code",
   "execution_count": 13,
   "id": "2aaf0fce",
   "metadata": {},
   "outputs": [
    {
     "name": "stdout",
     "output_type": "stream",
     "text": [
      "                                              Título Preço        Data\n",
      "0  Frank Zappa - Apostrophe (') Songbook: Guitar ...  9,80  2022-04-07\n",
      "1  Frank Zappa - Apostrophe (') Songbook: Guitar ...  9,80  2022-04-07\n",
      "2  Frank Zappa - Apostrophe (') Songbook: Guitar ...  9,80  2022-04-07\n"
     ]
    }
   ],
   "source": [
    "import pandas as pd\n",
    "\n",
    "df = pd.read_csv('EscavadorAmazon.csv')\n",
    "\n",
    "print(df)"
   ]
  },
  {
   "cell_type": "code",
   "execution_count": 12,
   "id": "ee33c794",
   "metadata": {},
   "outputs": [],
   "source": [
    "# Adicionando dados ao csv\n",
    "\n",
    "\n",
    "with open (\"EscavadorAmazon.csv\", 'a+', newline='', encoding='UTF8') as f:\n",
    "    writer = csv.writer(f)\n",
    "    writer.writerow(dados)"
   ]
  },
  {
   "cell_type": "code",
   "execution_count": null,
   "id": "1e1bd930",
   "metadata": {},
   "outputs": [],
   "source": [
    "def verif_preco():\n",
    "    url = \"https://www.amazon.com.br/Frank-Zappa-Apostrophe-Songbook-Recorded-ebook/dp/B00G28RF3E/ref=sr_1_6?__mk_pt_BR=%C3%85M%C3%85%C5%BD%C3%95%C3%91&crid=3MIK3EKLBPZJM&keywords=frank+zappa&qid=1649351935&sprefix=frank+zapp%2Caps%2C219&sr=8-6&ufe=app_do%3Aamzn1.fos.db68964d-7c0e-4bb2-a95c-e5cb9e32eb12\"\n",
    "\n",
    "    headers = {\"User-Agent\": \"Mozilla/5.0 (Windows NT 10.0; Win64; x64; rv:98.0) Gecko/20100101 Firefox/98.0\", \"Accept-Encoding\":\"gzip, deflate\", \"Accept\":\"text/html,application/xhtml+xml,application/xml;q=0.9,*/*;q=0.8\", \"DNT\":\"1\",\"Connection\":\"close\", \"Upgrade-Insecure-Requests\":\"1\"}\n",
    "\n",
    "    pagina = requests.get(url, headers=headers)\n",
    "\n",
    "    soup1 = BeautifulSoup(pagina.content, \"html.parser\")\n",
    "\n",
    "    soup2 = BeautifulSoup(soup1.prettify(), \"html.parser\")\n",
    "\n",
    "    titulo = soup2.find(id='productTitle').get_text()\n",
    "\n",
    "    preco = soup2.find(id='kindle-price').get_text()\n",
    "    \n",
    "    \n",
    "    preco = preco.strip()[2:]\n",
    "    titulo = titulo.strip()\n",
    "    \n",
    "    import datetime\n",
    "\n",
    "    hoje = datetime.date.today()\n",
    "    print(hoje)\n",
    "    \n",
    "    import csv\n",
    "\n",
    "    header = ['Título', 'Preço', 'Data']\n",
    "    dados = [titulo,preco, hoje]\n",
    "    \n",
    "    with open (\"EscavadorAmazon.csv\", 'a+', newline='', encoding='UTF8') as f:\n",
    "        writer = csv.writer(f)\n",
    "        writer.writerow(dados)\n",
    "        \n",
    " \n",
    "    \n"
   ]
  },
  {
   "cell_type": "code",
   "execution_count": null,
   "id": "92adbc8d",
   "metadata": {},
   "outputs": [],
   "source": [
    "while(True):\n",
    "    verif_preco()\n",
    "    time.sleep(86400)"
   ]
  },
  {
   "cell_type": "code",
   "execution_count": 16,
   "id": "7fbb411a",
   "metadata": {},
   "outputs": [
    {
     "name": "stdout",
     "output_type": "stream",
     "text": [
      "                                               Título    Preço        Data\n",
      "0   Frank Zappa - Apostrophe (') Songbook: Guitar ...     9,80  2022-04-07\n",
      "1   Frank Zappa - Apostrophe (') Songbook: Guitar ...     9,80  2022-04-07\n",
      "2   Frank Zappa - Apostrophe (') Songbook: Guitar ...     9,80  2022-04-07\n",
      "3   Frank Zappa - Apostrophe (') Songbook: Guitar ...   129,80  2022-04-07\n",
      "4   Frank Zappa - Apostrophe (') Songbook: Guitar ...   129,80  2022-04-07\n",
      "5   Frank Zappa - Apostrophe (') Songbook: Guitar ...   129,80  2022-04-07\n",
      "6   Frank Zappa - Apostrophe (') Songbook: Guitar ...   129,80  2022-04-07\n",
      "7   Frank Zappa - Apostrophe (') Songbook: Guitar ...   129,80  2022-04-07\n",
      "8   Frank Zappa - Apostrophe (') Songbook: Guitar ...   129,80  2022-04-07\n",
      "9   Frank Zappa - Apostrophe (') Songbook: Guitar ...   129,80  2022-04-07\n",
      "10  Frank Zappa - Apostrophe (') Songbook: Guitar ...   129,80  2022-04-07\n",
      "11  Frank Zappa - Apostrophe (') Songbook: Guitar ...   129,80  2022-04-07\n",
      "12  Frank Zappa - Apostrophe (') Songbook: Guitar ...   129,80  2022-04-07\n",
      "13  Frank Zappa - Apostrophe (') Songbook: Guitar ...   129,80  2022-04-07\n",
      "14  Frank Zappa - Apostrophe (') Songbook: Guitar ...   129,80  2022-04-07\n",
      "15  Frank Zappa - Apostrophe (') Songbook: Guitar ...   129,80  2022-04-07\n",
      "16  Frank Zappa - Apostrophe (') Songbook: Guitar ...   129,80  2022-04-07\n",
      "17  Frank Zappa - Apostrophe (') Songbook: Guitar ...   129,80  2022-04-07\n",
      "18  Frank Zappa - Apostrophe (') Songbook: Guitar ...   129,80  2022-04-07\n",
      "19  Frank Zappa - Apostrophe (') Songbook: Guitar ...   129,80  2022-04-07\n",
      "20  Frank Zappa - Apostrophe (') Songbook: Guitar ...   129,80  2022-04-07\n",
      "21  Frank Zappa - Apostrophe (') Songbook: Guitar ...   129,80  2022-04-07\n",
      "22  Frank Zappa - Apostrophe (') Songbook: Guitar ...   129,80  2022-04-07\n"
     ]
    }
   ],
   "source": [
    "import pandas as pd\n",
    "\n",
    "df = pd.read_csv('EscavadorAmazon.csv')\n",
    "\n",
    "print(df)"
   ]
  },
  {
   "cell_type": "code",
   "execution_count": null,
   "id": "7293d7d8",
   "metadata": {},
   "outputs": [],
   "source": []
  }
 ],
 "metadata": {
  "kernelspec": {
   "display_name": "Python 3",
   "language": "python",
   "name": "python3"
  },
  "language_info": {
   "codemirror_mode": {
    "name": "ipython",
    "version": 3
   },
   "file_extension": ".py",
   "mimetype": "text/x-python",
   "name": "python",
   "nbconvert_exporter": "python",
   "pygments_lexer": "ipython3",
   "version": "3.8.8"
  }
 },
 "nbformat": 4,
 "nbformat_minor": 5
}
